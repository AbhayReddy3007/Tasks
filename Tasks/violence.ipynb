{
 "cells": [
  {
   "cell_type": "code",
   "execution_count": 3,
   "metadata": {
    "execution": {
     "iopub.execute_input": "2024-03-13T12:46:29.973348Z",
     "iopub.status.busy": "2024-03-13T12:46:29.972655Z",
     "iopub.status.idle": "2024-03-13T12:46:30.631172Z",
     "shell.execute_reply": "2024-03-13T12:46:30.630296Z",
     "shell.execute_reply.started": "2024-03-13T12:46:29.973316Z"
    }
   },
   "outputs": [],
   "source": [
    "import numpy as np \n",
    "import pandas as pd\n",
    "import os\n",
    "violence = os.listdir('/real-life-violence-situations-dataset/Real Life Violence Dataset/Violence')\n",
    "nonviolence = os.listdir('/real-life-violence-situations-dataset/Real Life Violence Dataset/NonViolence')"
   ]
  },
  {
   "cell_type": "code",
   "execution_count": 4,
   "metadata": {
    "execution": {
     "iopub.execute_input": "2024-03-13T12:46:32.126186Z",
     "iopub.status.busy": "2024-03-13T12:46:32.125350Z",
     "iopub.status.idle": "2024-03-13T12:46:32.135022Z",
     "shell.execute_reply": "2024-03-13T12:46:32.134136Z",
     "shell.execute_reply.started": "2024-03-13T12:46:32.126153Z"
    }
   },
   "outputs": [],
   "source": [
    "violence_path = [os.path.join('/real-life-violence-situations-dataset/Real Life Violence Dataset/Violence',name) for name in violence]\n",
    "nonviolence_path = [os.path.join('/real-life-violence-situations-dataset/Real Life Violence Dataset/NonViolence',name) for name in nonviolence]"
   ]
  },
  {
   "cell_type": "code",
   "execution_count": 5,
   "metadata": {
    "execution": {
     "iopub.execute_input": "2024-03-13T12:46:32.770644Z",
     "iopub.status.busy": "2024-03-13T12:46:32.770299Z",
     "iopub.status.idle": "2024-03-13T12:46:50.701509Z",
     "shell.execute_reply": "2024-03-13T12:46:50.700652Z",
     "shell.execute_reply.started": "2024-03-13T12:46:32.770619Z"
    }
   },
   "outputs": [
    {
     "name": "stderr",
     "output_type": "stream",
     "text": [
      "2024-03-13 12:46:34.605034: E external/local_xla/xla/stream_executor/cuda/cuda_dnn.cc:9261] Unable to register cuDNN factory: Attempting to register factory for plugin cuDNN when one has already been registered\n",
      "2024-03-13 12:46:34.605161: E external/local_xla/xla/stream_executor/cuda/cuda_fft.cc:607] Unable to register cuFFT factory: Attempting to register factory for plugin cuFFT when one has already been registered\n",
      "2024-03-13 12:46:34.754197: E external/local_xla/xla/stream_executor/cuda/cuda_blas.cc:1515] Unable to register cuBLAS factory: Attempting to register factory for plugin cuBLAS when one has already been registered\n"
     ]
    },
    {
     "name": "stdout",
     "output_type": "stream",
     "text": [
      "Downloading data from https://storage.googleapis.com/tensorflow/keras-applications/inception_v3/inception_v3_weights_tf_dim_ordering_tf_kernels.h5\n",
      "\u001b[1m96112376/96112376\u001b[0m \u001b[32m━━━━━━━━━━━━━━━━━━━━\u001b[0m\u001b[37m\u001b[0m \u001b[1m3s\u001b[0m 0us/step\n"
     ]
    }
   ],
   "source": [
    "from tensorflow.keras.applications import InceptionV3\n",
    "from tensorflow.keras.models import Model\n",
    "pretrained_model = InceptionV3()\n",
    "pretrained_model = Model(inputs=pretrained_model.input,outputs=pretrained_model.layers[-2].output)"
   ]
  },
  {
   "cell_type": "code",
   "execution_count": 15,
   "metadata": {
    "execution": {
     "iopub.execute_input": "2024-03-13T12:51:49.888283Z",
     "iopub.status.busy": "2024-03-13T12:51:49.887655Z",
     "iopub.status.idle": "2024-03-13T12:51:49.893190Z",
     "shell.execute_reply": "2024-03-13T12:51:49.892230Z",
     "shell.execute_reply.started": "2024-03-13T12:51:49.888249Z"
    }
   },
   "outputs": [],
   "source": [
    "def feature_extractor(frame):\n",
    "    img = np.expand_dims(frame, axis=0)\n",
    "    feature_vector = pretrained_model.predict(img, verbose=0)\n",
    "    return feature_vector"
   ]
  },
  {
   "cell_type": "code",
   "execution_count": 16,
   "metadata": {
    "execution": {
     "iopub.execute_input": "2024-03-13T12:51:50.300459Z",
     "iopub.status.busy": "2024-03-13T12:51:50.299840Z",
     "iopub.status.idle": "2024-03-13T12:51:50.309818Z",
     "shell.execute_reply": "2024-03-13T12:51:50.308931Z",
     "shell.execute_reply.started": "2024-03-13T12:51:50.300421Z"
    }
   },
   "outputs": [],
   "source": [
    "def frames_extraction(video_path, SEQUENCE_LENGTH=16, IMAGE_WIDTH=299, IMAGE_HEIGHT=299, total_video=0):\n",
    "    all_video_features = []\n",
    "    for pos in tqdm(range(total_video)):\n",
    "        frames_list = []\n",
    "        video_reader = cv2.VideoCapture(video_path[pos])\n",
    "        video_frames_count = int(video_reader.get(cv2.CAP_PROP_FRAME_COUNT))\n",
    "        skip_frames_window = max(int(video_frames_count / SEQUENCE_LENGTH), 1)\n",
    "        for frame_counter in range(SEQUENCE_LENGTH):\n",
    "            video_reader.set(cv2.CAP_PROP_POS_FRAMES, frame_counter * skip_frames_window)\n",
    "            success, frame = video_reader.read()\n",
    "            if not success:\n",
    "                break\n",
    "            frame_rgb = cv2.cvtColor(frame, cv2.COLOR_BGR2RGB)\n",
    "            resized_frame = cv2.resize(frame_rgb, (IMAGE_HEIGHT, IMAGE_WIDTH))\n",
    "            normalized_frame = resized_frame / 255\n",
    "            features = feature_extractor(normalized_frame)\n",
    "            frames_list.append(features)\n",
    "        all_video_features.append(frames_list)\n",
    "        video_reader.release()\n",
    "    return np.array(all_video_features)"
   ]
  },
  {
   "cell_type": "code",
   "execution_count": 19,
   "metadata": {
    "execution": {
     "iopub.execute_input": "2024-03-13T13:01:44.162485Z",
     "iopub.status.busy": "2024-03-13T13:01:44.161744Z",
     "iopub.status.idle": "2024-03-13T13:13:13.544094Z",
     "shell.execute_reply": "2024-03-13T13:13:13.543053Z",
     "shell.execute_reply.started": "2024-03-13T13:01:44.162453Z"
    }
   },
   "outputs": [
    {
     "name": "stderr",
     "output_type": "stream",
     "text": [
      "100%|██████████| 200/200 [06:35<00:00,  1.98s/it]\n",
      "100%|██████████| 200/200 [04:53<00:00,  1.47s/it]\n"
     ]
    }
   ],
   "source": [
    "import cv2\n",
    "violence_features = frames_extraction(violence_path[:200],total_video=len(violence_path[:200]))\n",
    "non_violence_features = frames_extraction(nonviolence_path[:200],total_video=len(nonviolence_path[:200]))"
   ]
  },
  {
   "cell_type": "code",
   "execution_count": 20,
   "metadata": {
    "execution": {
     "iopub.execute_input": "2024-03-13T13:13:20.447076Z",
     "iopub.status.busy": "2024-03-13T13:13:20.446081Z",
     "iopub.status.idle": "2024-03-13T13:13:20.491336Z",
     "shell.execute_reply": "2024-03-13T13:13:20.490470Z",
     "shell.execute_reply.started": "2024-03-13T13:13:20.447039Z"
    }
   },
   "outputs": [],
   "source": [
    "np.save('violence_features.npy',violence_features)\n",
    "np.save('non_violence_features.npy',non_violence_features)"
   ]
  },
  {
   "cell_type": "code",
   "execution_count": 21,
   "metadata": {
    "execution": {
     "iopub.execute_input": "2024-03-13T13:13:20.880904Z",
     "iopub.status.busy": "2024-03-13T13:13:20.880191Z",
     "iopub.status.idle": "2024-03-13T13:13:20.904343Z",
     "shell.execute_reply": "2024-03-13T13:13:20.903580Z",
     "shell.execute_reply.started": "2024-03-13T13:13:20.880874Z"
    }
   },
   "outputs": [],
   "source": [
    "non_violence_data = np.load('non_violence_features.npy')\n",
    "violence_data = np.load('violence_features.npy')"
   ]
  },
  {
   "cell_type": "code",
   "execution_count": 22,
   "metadata": {
    "execution": {
     "iopub.execute_input": "2024-03-13T13:13:21.147279Z",
     "iopub.status.busy": "2024-03-13T13:13:21.146571Z",
     "iopub.status.idle": "2024-03-13T13:13:21.578188Z",
     "shell.execute_reply": "2024-03-13T13:13:21.577376Z",
     "shell.execute_reply.started": "2024-03-13T13:13:21.147250Z"
    }
   },
   "outputs": [],
   "source": [
    "from keras.models import Sequential\n",
    "from keras.layers import LSTM, Dense,Bidirectional,BatchNormalization,Dropout\n",
    "from sklearn.model_selection import train_test_split"
   ]
  },
  {
   "cell_type": "code",
   "execution_count": 23,
   "metadata": {
    "execution": {
     "iopub.execute_input": "2024-03-13T13:13:21.581382Z",
     "iopub.status.busy": "2024-03-13T13:13:21.580069Z",
     "iopub.status.idle": "2024-03-13T13:13:21.585878Z",
     "shell.execute_reply": "2024-03-13T13:13:21.584799Z",
     "shell.execute_reply.started": "2024-03-13T13:13:21.581336Z"
    }
   },
   "outputs": [],
   "source": [
    "violence_labels = np.zeros(len(violence_data))\n",
    "nonviolence_labels = np.ones(len(non_violence_data))"
   ]
  },
  {
   "cell_type": "code",
   "execution_count": 24,
   "metadata": {
    "execution": {
     "iopub.execute_input": "2024-03-13T13:13:21.587321Z",
     "iopub.status.busy": "2024-03-13T13:13:21.587018Z",
     "iopub.status.idle": "2024-03-13T13:13:21.614884Z",
     "shell.execute_reply": "2024-03-13T13:13:21.614053Z",
     "shell.execute_reply.started": "2024-03-13T13:13:21.587296Z"
    }
   },
   "outputs": [],
   "source": [
    "\n",
    "X = np.concatenate([violence_data, non_violence_data], axis=0)\n",
    "y = np.concatenate([violence_labels, nonviolence_labels], axis=0)"
   ]
  },
  {
   "cell_type": "code",
   "execution_count": 25,
   "metadata": {
    "execution": {
     "iopub.execute_input": "2024-03-13T13:13:21.771809Z",
     "iopub.status.busy": "2024-03-13T13:13:21.770894Z",
     "iopub.status.idle": "2024-03-13T13:13:21.797483Z",
     "shell.execute_reply": "2024-03-13T13:13:21.796373Z",
     "shell.execute_reply.started": "2024-03-13T13:13:21.771772Z"
    }
   },
   "outputs": [],
   "source": [
    "X_train, X_test, y_train, y_test = train_test_split(X, y, test_size=0.3, random_state=7)"
   ]
  },
  {
   "cell_type": "code",
   "execution_count": 26,
   "metadata": {
    "execution": {
     "iopub.execute_input": "2024-03-13T13:13:21.991938Z",
     "iopub.status.busy": "2024-03-13T13:13:21.991002Z",
     "iopub.status.idle": "2024-03-13T13:13:21.997504Z",
     "shell.execute_reply": "2024-03-13T13:13:21.996528Z",
     "shell.execute_reply.started": "2024-03-13T13:13:21.991898Z"
    }
   },
   "outputs": [],
   "source": [
    "\n",
    "X_train_reshaped = X_train.reshape((X_train.shape[0], 16, 2048))\n",
    "X_test_reshaped = X_test.reshape((X_test.shape[0], 16, 2048))"
   ]
  },
  {
   "cell_type": "code",
   "execution_count": 30,
   "metadata": {
    "execution": {
     "iopub.execute_input": "2024-03-13T13:14:06.476887Z",
     "iopub.status.busy": "2024-03-13T13:14:06.476518Z",
     "iopub.status.idle": "2024-03-13T13:14:06.787473Z",
     "shell.execute_reply": "2024-03-13T13:14:06.786655Z",
     "shell.execute_reply.started": "2024-03-13T13:14:06.476857Z"
    }
   },
   "outputs": [],
   "source": [
    "from tensorflow.keras import Input\n",
    "inputs = Input(shape=(16, 2048))\n",
    "x = Bidirectional(LSTM(200, return_sequences=True))(inputs)\n",
    "x = BatchNormalization()(x)\n",
    "x = Dropout(0.3)(x)\n",
    "x = Bidirectional(LSTM(100))(x)\n",
    "x = BatchNormalization()(x)\n",
    "x = Dropout(0.3)(x)\n",
    "x = Dense(200, activation='relu')(x)\n",
    "outputs = Dense(1, activation='sigmoid')(x)"
   ]
  },
  {
   "cell_type": "code",
   "execution_count": 31,
   "metadata": {
    "execution": {
     "iopub.execute_input": "2024-03-13T13:14:11.711159Z",
     "iopub.status.busy": "2024-03-13T13:14:11.710560Z",
     "iopub.status.idle": "2024-03-13T13:14:11.721096Z",
     "shell.execute_reply": "2024-03-13T13:14:11.720198Z",
     "shell.execute_reply.started": "2024-03-13T13:14:11.711129Z"
    }
   },
   "outputs": [],
   "source": [
    "model = Model(inputs=inputs, outputs=outputs)"
   ]
  },
  {
   "cell_type": "code",
   "execution_count": 32,
   "metadata": {
    "execution": {
     "iopub.execute_input": "2024-03-13T13:14:12.885521Z",
     "iopub.status.busy": "2024-03-13T13:14:12.885135Z",
     "iopub.status.idle": "2024-03-13T13:14:12.911413Z",
     "shell.execute_reply": "2024-03-13T13:14:12.910604Z",
     "shell.execute_reply.started": "2024-03-13T13:14:12.885492Z"
    }
   },
   "outputs": [
    {
     "data": {
      "text/html": [
       "<pre style=\"white-space:pre;overflow-x:auto;line-height:normal;font-family:Menlo,'DejaVu Sans Mono',consolas,'Courier New',monospace\"><span style=\"font-weight: bold\">Model: \"functional_3\"</span>\n",
       "</pre>\n"
      ],
      "text/plain": [
       "\u001b[1mModel: \"functional_3\"\u001b[0m\n"
      ]
     },
     "metadata": {},
     "output_type": "display_data"
    },
    {
     "data": {
      "text/html": [
       "<pre style=\"white-space:pre;overflow-x:auto;line-height:normal;font-family:Menlo,'DejaVu Sans Mono',consolas,'Courier New',monospace\">┏━━━━━━━━━━━━━━━━━━━━━━━━━━━━━━━━━┳━━━━━━━━━━━━━━━━━━━━━━━━┳━━━━━━━━━━━━━━━┓\n",
       "┃<span style=\"font-weight: bold\"> Layer (type)                    </span>┃<span style=\"font-weight: bold\"> Output Shape           </span>┃<span style=\"font-weight: bold\">       Param # </span>┃\n",
       "┡━━━━━━━━━━━━━━━━━━━━━━━━━━━━━━━━━╇━━━━━━━━━━━━━━━━━━━━━━━━╇━━━━━━━━━━━━━━━┩\n",
       "│ input_layer_1 (<span style=\"color: #0087ff; text-decoration-color: #0087ff\">InputLayer</span>)      │ (<span style=\"color: #00d7ff; text-decoration-color: #00d7ff\">None</span>, <span style=\"color: #00af00; text-decoration-color: #00af00\">16</span>, <span style=\"color: #00af00; text-decoration-color: #00af00\">2048</span>)       │             <span style=\"color: #00af00; text-decoration-color: #00af00\">0</span> │\n",
       "├─────────────────────────────────┼────────────────────────┼───────────────┤\n",
       "│ bidirectional (<span style=\"color: #0087ff; text-decoration-color: #0087ff\">Bidirectional</span>)   │ (<span style=\"color: #00d7ff; text-decoration-color: #00d7ff\">None</span>, <span style=\"color: #00af00; text-decoration-color: #00af00\">16</span>, <span style=\"color: #00af00; text-decoration-color: #00af00\">400</span>)        │     <span style=\"color: #00af00; text-decoration-color: #00af00\">3,598,400</span> │\n",
       "├─────────────────────────────────┼────────────────────────┼───────────────┤\n",
       "│ batch_normalization_94          │ (<span style=\"color: #00d7ff; text-decoration-color: #00d7ff\">None</span>, <span style=\"color: #00af00; text-decoration-color: #00af00\">16</span>, <span style=\"color: #00af00; text-decoration-color: #00af00\">400</span>)        │         <span style=\"color: #00af00; text-decoration-color: #00af00\">1,600</span> │\n",
       "│ (<span style=\"color: #0087ff; text-decoration-color: #0087ff\">BatchNormalization</span>)            │                        │               │\n",
       "├─────────────────────────────────┼────────────────────────┼───────────────┤\n",
       "│ dropout (<span style=\"color: #0087ff; text-decoration-color: #0087ff\">Dropout</span>)               │ (<span style=\"color: #00d7ff; text-decoration-color: #00d7ff\">None</span>, <span style=\"color: #00af00; text-decoration-color: #00af00\">16</span>, <span style=\"color: #00af00; text-decoration-color: #00af00\">400</span>)        │             <span style=\"color: #00af00; text-decoration-color: #00af00\">0</span> │\n",
       "├─────────────────────────────────┼────────────────────────┼───────────────┤\n",
       "│ bidirectional_1 (<span style=\"color: #0087ff; text-decoration-color: #0087ff\">Bidirectional</span>) │ (<span style=\"color: #00d7ff; text-decoration-color: #00d7ff\">None</span>, <span style=\"color: #00af00; text-decoration-color: #00af00\">200</span>)            │       <span style=\"color: #00af00; text-decoration-color: #00af00\">400,800</span> │\n",
       "├─────────────────────────────────┼────────────────────────┼───────────────┤\n",
       "│ batch_normalization_95          │ (<span style=\"color: #00d7ff; text-decoration-color: #00d7ff\">None</span>, <span style=\"color: #00af00; text-decoration-color: #00af00\">200</span>)            │           <span style=\"color: #00af00; text-decoration-color: #00af00\">800</span> │\n",
       "│ (<span style=\"color: #0087ff; text-decoration-color: #0087ff\">BatchNormalization</span>)            │                        │               │\n",
       "├─────────────────────────────────┼────────────────────────┼───────────────┤\n",
       "│ dropout_1 (<span style=\"color: #0087ff; text-decoration-color: #0087ff\">Dropout</span>)             │ (<span style=\"color: #00d7ff; text-decoration-color: #00d7ff\">None</span>, <span style=\"color: #00af00; text-decoration-color: #00af00\">200</span>)            │             <span style=\"color: #00af00; text-decoration-color: #00af00\">0</span> │\n",
       "├─────────────────────────────────┼────────────────────────┼───────────────┤\n",
       "│ dense (<span style=\"color: #0087ff; text-decoration-color: #0087ff\">Dense</span>)                   │ (<span style=\"color: #00d7ff; text-decoration-color: #00d7ff\">None</span>, <span style=\"color: #00af00; text-decoration-color: #00af00\">200</span>)            │        <span style=\"color: #00af00; text-decoration-color: #00af00\">40,200</span> │\n",
       "├─────────────────────────────────┼────────────────────────┼───────────────┤\n",
       "│ dense_1 (<span style=\"color: #0087ff; text-decoration-color: #0087ff\">Dense</span>)                 │ (<span style=\"color: #00d7ff; text-decoration-color: #00d7ff\">None</span>, <span style=\"color: #00af00; text-decoration-color: #00af00\">1</span>)              │           <span style=\"color: #00af00; text-decoration-color: #00af00\">201</span> │\n",
       "└─────────────────────────────────┴────────────────────────┴───────────────┘\n",
       "</pre>\n"
      ],
      "text/plain": [
       "┏━━━━━━━━━━━━━━━━━━━━━━━━━━━━━━━━━┳━━━━━━━━━━━━━━━━━━━━━━━━┳━━━━━━━━━━━━━━━┓\n",
       "┃\u001b[1m \u001b[0m\u001b[1mLayer (type)                   \u001b[0m\u001b[1m \u001b[0m┃\u001b[1m \u001b[0m\u001b[1mOutput Shape          \u001b[0m\u001b[1m \u001b[0m┃\u001b[1m \u001b[0m\u001b[1m      Param #\u001b[0m\u001b[1m \u001b[0m┃\n",
       "┡━━━━━━━━━━━━━━━━━━━━━━━━━━━━━━━━━╇━━━━━━━━━━━━━━━━━━━━━━━━╇━━━━━━━━━━━━━━━┩\n",
       "│ input_layer_1 (\u001b[38;5;33mInputLayer\u001b[0m)      │ (\u001b[38;5;45mNone\u001b[0m, \u001b[38;5;34m16\u001b[0m, \u001b[38;5;34m2048\u001b[0m)       │             \u001b[38;5;34m0\u001b[0m │\n",
       "├─────────────────────────────────┼────────────────────────┼───────────────┤\n",
       "│ bidirectional (\u001b[38;5;33mBidirectional\u001b[0m)   │ (\u001b[38;5;45mNone\u001b[0m, \u001b[38;5;34m16\u001b[0m, \u001b[38;5;34m400\u001b[0m)        │     \u001b[38;5;34m3,598,400\u001b[0m │\n",
       "├─────────────────────────────────┼────────────────────────┼───────────────┤\n",
       "│ batch_normalization_94          │ (\u001b[38;5;45mNone\u001b[0m, \u001b[38;5;34m16\u001b[0m, \u001b[38;5;34m400\u001b[0m)        │         \u001b[38;5;34m1,600\u001b[0m │\n",
       "│ (\u001b[38;5;33mBatchNormalization\u001b[0m)            │                        │               │\n",
       "├─────────────────────────────────┼────────────────────────┼───────────────┤\n",
       "│ dropout (\u001b[38;5;33mDropout\u001b[0m)               │ (\u001b[38;5;45mNone\u001b[0m, \u001b[38;5;34m16\u001b[0m, \u001b[38;5;34m400\u001b[0m)        │             \u001b[38;5;34m0\u001b[0m │\n",
       "├─────────────────────────────────┼────────────────────────┼───────────────┤\n",
       "│ bidirectional_1 (\u001b[38;5;33mBidirectional\u001b[0m) │ (\u001b[38;5;45mNone\u001b[0m, \u001b[38;5;34m200\u001b[0m)            │       \u001b[38;5;34m400,800\u001b[0m │\n",
       "├─────────────────────────────────┼────────────────────────┼───────────────┤\n",
       "│ batch_normalization_95          │ (\u001b[38;5;45mNone\u001b[0m, \u001b[38;5;34m200\u001b[0m)            │           \u001b[38;5;34m800\u001b[0m │\n",
       "│ (\u001b[38;5;33mBatchNormalization\u001b[0m)            │                        │               │\n",
       "├─────────────────────────────────┼────────────────────────┼───────────────┤\n",
       "│ dropout_1 (\u001b[38;5;33mDropout\u001b[0m)             │ (\u001b[38;5;45mNone\u001b[0m, \u001b[38;5;34m200\u001b[0m)            │             \u001b[38;5;34m0\u001b[0m │\n",
       "├─────────────────────────────────┼────────────────────────┼───────────────┤\n",
       "│ dense (\u001b[38;5;33mDense\u001b[0m)                   │ (\u001b[38;5;45mNone\u001b[0m, \u001b[38;5;34m200\u001b[0m)            │        \u001b[38;5;34m40,200\u001b[0m │\n",
       "├─────────────────────────────────┼────────────────────────┼───────────────┤\n",
       "│ dense_1 (\u001b[38;5;33mDense\u001b[0m)                 │ (\u001b[38;5;45mNone\u001b[0m, \u001b[38;5;34m1\u001b[0m)              │           \u001b[38;5;34m201\u001b[0m │\n",
       "└─────────────────────────────────┴────────────────────────┴───────────────┘\n"
      ]
     },
     "metadata": {},
     "output_type": "display_data"
    },
    {
     "data": {
      "text/html": [
       "<pre style=\"white-space:pre;overflow-x:auto;line-height:normal;font-family:Menlo,'DejaVu Sans Mono',consolas,'Courier New',monospace\"><span style=\"font-weight: bold\"> Total params: </span><span style=\"color: #00af00; text-decoration-color: #00af00\">4,042,001</span> (15.42 MB)\n",
       "</pre>\n"
      ],
      "text/plain": [
       "\u001b[1m Total params: \u001b[0m\u001b[38;5;34m4,042,001\u001b[0m (15.42 MB)\n"
      ]
     },
     "metadata": {},
     "output_type": "display_data"
    },
    {
     "data": {
      "text/html": [
       "<pre style=\"white-space:pre;overflow-x:auto;line-height:normal;font-family:Menlo,'DejaVu Sans Mono',consolas,'Courier New',monospace\"><span style=\"font-weight: bold\"> Trainable params: </span><span style=\"color: #00af00; text-decoration-color: #00af00\">4,040,801</span> (15.41 MB)\n",
       "</pre>\n"
      ],
      "text/plain": [
       "\u001b[1m Trainable params: \u001b[0m\u001b[38;5;34m4,040,801\u001b[0m (15.41 MB)\n"
      ]
     },
     "metadata": {},
     "output_type": "display_data"
    },
    {
     "data": {
      "text/html": [
       "<pre style=\"white-space:pre;overflow-x:auto;line-height:normal;font-family:Menlo,'DejaVu Sans Mono',consolas,'Courier New',monospace\"><span style=\"font-weight: bold\"> Non-trainable params: </span><span style=\"color: #00af00; text-decoration-color: #00af00\">1,200</span> (4.69 KB)\n",
       "</pre>\n"
      ],
      "text/plain": [
       "\u001b[1m Non-trainable params: \u001b[0m\u001b[38;5;34m1,200\u001b[0m (4.69 KB)\n"
      ]
     },
     "metadata": {},
     "output_type": "display_data"
    }
   ],
   "source": [
    "model.summary()"
   ]
  },
  {
   "cell_type": "code",
   "execution_count": 34,
   "metadata": {
    "execution": {
     "iopub.execute_input": "2024-03-13T13:14:28.916966Z",
     "iopub.status.busy": "2024-03-13T13:14:28.916121Z",
     "iopub.status.idle": "2024-03-13T13:14:34.523062Z",
     "shell.execute_reply": "2024-03-13T13:14:34.522168Z",
     "shell.execute_reply.started": "2024-03-13T13:14:28.916931Z"
    }
   },
   "outputs": [
    {
     "name": "stdout",
     "output_type": "stream",
     "text": [
      "Epoch 1/5\n",
      "\u001b[1m9/9\u001b[0m \u001b[32m━━━━━━━━━━━━━━━━━━━━\u001b[0m\u001b[37m\u001b[0m \u001b[1m5s\u001b[0m 76ms/step - accuracy: 0.8675 - loss: 0.3545 - val_accuracy: 0.6750 - val_loss: 0.5508\n",
      "Epoch 2/5\n",
      "\u001b[1m9/9\u001b[0m \u001b[32m━━━━━━━━━━━━━━━━━━━━\u001b[0m\u001b[37m\u001b[0m \u001b[1m0s\u001b[0m 23ms/step - accuracy: 0.9694 - loss: 0.1023 - val_accuracy: 0.9083 - val_loss: 0.4050\n",
      "Epoch 3/5\n",
      "\u001b[1m9/9\u001b[0m \u001b[32m━━━━━━━━━━━━━━━━━━━━\u001b[0m\u001b[37m\u001b[0m \u001b[1m0s\u001b[0m 19ms/step - accuracy: 0.9851 - loss: 0.0540 - val_accuracy: 0.9000 - val_loss: 0.3854\n",
      "Epoch 4/5\n",
      "\u001b[1m9/9\u001b[0m \u001b[32m━━━━━━━━━━━━━━━━━━━━\u001b[0m\u001b[37m\u001b[0m \u001b[1m0s\u001b[0m 18ms/step - accuracy: 0.9735 - loss: 0.0464 - val_accuracy: 0.9417 - val_loss: 0.3275\n",
      "Epoch 5/5\n",
      "\u001b[1m9/9\u001b[0m \u001b[32m━━━━━━━━━━━━━━━━━━━━\u001b[0m\u001b[37m\u001b[0m \u001b[1m0s\u001b[0m 19ms/step - accuracy: 0.9984 - loss: 0.0079 - val_accuracy: 0.9583 - val_loss: 0.2811\n"
     ]
    },
    {
     "data": {
      "text/plain": [
       "<keras.src.callbacks.history.History at 0x7e032d0001c0>"
      ]
     },
     "execution_count": 34,
     "metadata": {},
     "output_type": "execute_result"
    }
   ],
   "source": [
    "model.compile(optimizer='adam', loss='binary_crossentropy', metrics=['accuracy'])\n",
    "model.fit(X_train_reshaped,y_train,validation_data=(X_test_reshaped,y_test),epochs=5,batch_size=32)"
   ]
  },
  {
   "cell_type": "code",
   "execution_count": null,
   "metadata": {},
   "outputs": [],
   "source": []
  }
 ],
 "metadata": {
  "kaggle": {
   "accelerator": "gpu",
   "dataSources": [
    {
     "datasetId": 176381,
     "sourceId": 397693,
     "sourceType": "datasetVersion"
    }
   ],
   "dockerImageVersionId": 30665,
   "isGpuEnabled": true,
   "isInternetEnabled": true,
   "language": "python",
   "sourceType": "notebook"
  },
  "kernelspec": {
   "display_name": "Python 3 (ipykernel)",
   "language": "python",
   "name": "python3"
  },
  "language_info": {
   "codemirror_mode": {
    "name": "ipython",
    "version": 3
   },
   "file_extension": ".py",
   "mimetype": "text/x-python",
   "name": "python",
   "nbconvert_exporter": "python",
   "pygments_lexer": "ipython3",
   "version": "3.11.5"
  }
 },
 "nbformat": 4,
 "nbformat_minor": 4
}
